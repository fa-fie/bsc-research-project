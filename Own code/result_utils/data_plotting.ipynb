{
 "cells": [
  {
   "cell_type": "code",
   "execution_count": null,
   "metadata": {},
   "outputs": [],
   "source": [
    "import os\n",
    "import pandas as pd\n",
    "import sys\n",
    "from matplotlib import pyplot as plt\n",
    "import numpy as np\n",
    "import seaborn as sns\n",
    "\n",
    "from utils_plotting import create_dirs\n",
    "from data_extraction import load_data_to_dataframe"
   ]
  },
  {
   "cell_type": "code",
   "execution_count": 7,
   "metadata": {},
   "outputs": [],
   "source": [
    "# ------ Settings ------\n",
    "# => These variables should be set to the desired settings!\n",
    "\n",
    "# The files in the directory should have names of the form:\n",
    "# \"{dataset}-factor-{downsample factor}-{any remaining information}\"\n",
    "directory = ''\n",
    "\n",
    "# The algorithms to consider, needs to match Excel header\n",
    "algorithms = [\n",
    "    'Change Vector Analysis',\n",
    "    'Iterative Reweighted MAD'\n",
    "]\n",
    "\n",
    "# ---- The metrics to consider ----\n",
    "\n",
    "# Given in the Excel file\n",
    "metrics_precalc = []\n",
    "\n",
    "# Need to be calculated here -> assumes that the Excel file contains TP, FP, TN and FN\n",
    "metrics_calc = [\n",
    "    'OA',\n",
    "    'Recall',\n",
    "    'Precision',\n",
    "    'FMeasure',\n",
    "    'Kappa'\n",
    "]"
   ]
  },
  {
   "cell_type": "code",
   "execution_count": 3,
   "metadata": {},
   "outputs": [],
   "source": [
    "# Load the data\n",
    "df = load_data_to_dataframe(directory, metrics_calc)\n",
    "\n",
    "# Create the directories\n",
    "metrics = metrics_calc + metrics_precalc\n",
    "dir_dict = create_dirs(directory, metrics)"
   ]
  },
  {
   "cell_type": "markdown",
   "metadata": {},
   "source": [
    "## Heatmap\n",
    "\n",
    "Reference: https://medium.com/@szabo.bibor/how-to-create-a-seaborn-correlation-heatmap-in-python-834c0686b88e"
   ]
  },
  {
   "cell_type": "code",
   "execution_count": 4,
   "metadata": {},
   "outputs": [],
   "source": [
    "def createHeatmap(data, attributes, title, directory, subfolder, figname):\n",
    "    data = data[attributes]\n",
    "    corr = data.corr()\n",
    "    mask = np.triu(np.ones_like(corr)) \n",
    "\n",
    "    plt.figure(figsize=(len(attributes) + 1, len(attributes)))\n",
    "    hm = sns.heatmap(corr, vmin = -1, vmax = 1, center = 0, annot=True, fmt='.1f', \n",
    "                     square=True, linewidths=.5, cmap = 'coolwarm', mask=mask)\n",
    "    hm.set_title(title, fontdict={'fontsize':12}, pad=12)\n",
    "    \n",
    "    folder = os.path.join(directory, subfolder)\n",
    "    if not os.path.exists(folder):\n",
    "        os.makedirs(folder)\n",
    "\n",
    "    plt.savefig(os.path.join(folder, figname + '.png'))"
   ]
  },
  {
   "cell_type": "code",
   "execution_count": null,
   "metadata": {},
   "outputs": [],
   "source": [
    "attrs = ['refWidth', 'refHeight', 'scaledRes', 'OA', 'Precision', 'Recall']\n",
    "\n",
    "createHeatmap(\n",
    "    df.loc[(df['name'] == 'Change Vector Analysis') & (df['threAlg'] == 'K-Means')],\n",
    "    attrs,\n",
    "    'CVA K-Means all',\n",
    "    dir_dict['heatmap_dir'],\n",
    "    'Change Vector Analysis',\n",
    "    'cva-kmeans-all'\n",
    ")\n",
    "\n",
    "createHeatmap(\n",
    "    df.loc[(df['name'] == 'Iterative Reweighted MAD') & (df['threAlg'] == 'K-Means')],\n",
    "    attrs,\n",
    "    'IRMAD K-Means all',\n",
    "    dir_dict['heatmap_dir'],\n",
    "    'Iterative Reweighted MAD',\n",
    "    'irmad-kmeans-all'\n",
    ")\n",
    "\n",
    "createHeatmap(\n",
    "    df.loc[(df['name'] == 'Change Vector Analysis') & (df['threAlg'] == 'K-Means') & \n",
    "           (df['dataset'] == 'LEVIRCDDataset')],\n",
    "    attrs,\n",
    "    'CVA K-Means LEVIR',\n",
    "    dir_dict['heatmap_dir'],\n",
    "    'Change Vector Analysis',\n",
    "    'cva-kmeans-levir'\n",
    ")\n",
    "\n",
    "createHeatmap(\n",
    "    df.loc[(df['name'] == 'Iterative Reweighted MAD') & (df['threAlg'] == 'K-Means') & \n",
    "           (df['dataset'] == 'LEVIRCDDataset')],\n",
    "    attrs,\n",
    "    'IRMAD K-Means LEVIR',\n",
    "    dir_dict['heatmap_dir'],\n",
    "    'Iterative Reweighted MAD',\n",
    "    'irmad-kmeans-levir'\n",
    ")\n",
    "\n",
    "createHeatmap(\n",
    "    df.loc[(df['name'] == 'Change Vector Analysis') & (df['threAlg'] == 'K-Means') & \n",
    "           (df['dataset'] == 'OSCDDataset')],\n",
    "    attrs,\n",
    "    'CVA K-Means OSCD',\n",
    "    dir_dict['heatmap_dir'],\n",
    "    'Change Vector Analysis',\n",
    "    'cva-kmeans-oscd'\n",
    ")\n",
    "\n",
    "createHeatmap(\n",
    "    df.loc[(df['name'] == 'Iterative Reweighted MAD') & (df['threAlg'] == 'K-Means') & \n",
    "           (df['dataset'] == 'OSCDDataset')],\n",
    "    attrs,\n",
    "    'IRMAD K-Means OSCD',\n",
    "    dir_dict['heatmap_dir'],\n",
    "    'Iterative Reweighted MAD',\n",
    "    'irmad-kmeans-oscd'\n",
    ")"
   ]
  },
  {
   "cell_type": "code",
   "execution_count": null,
   "metadata": {},
   "outputs": [],
   "source": [
    "attrs = ['refWidth', 'refHeight', 'scaledRes', 'OA', 'Precision', 'Recall']\n",
    "\n",
    "levir_imgs = ['test_89', 'test_77', 'test_38', 'test_39', 'test_59']\n",
    "oscd_imgs = ['milano-cm', 'valencia-cm', 'dubai-cm']\n",
    "\n",
    "imgs = levir_imgs + oscd_imgs\n",
    "algs = {\n",
    "    'Change Vector Analysis': 'CVA',\n",
    "    'Iterative Reweighted MAD': 'IRMAD',\n",
    "}\n",
    "\n",
    "for img in imgs:\n",
    "    for alg, short_alg in algs.items():\n",
    "        createHeatmap(\n",
    "            df.loc[(df['name'] == alg) & (df['threAlg'] == 'K-Means') & (df['refName'] == img)],\n",
    "            attrs,\n",
    "            short_alg + ' K-Means ' + img,\n",
    "            dir_dict['heatmap_dir'],\n",
    "            img,\n",
    "            short_alg + '-kmeans-' + img\n",
    "        )"
   ]
  },
  {
   "cell_type": "markdown",
   "metadata": {},
   "source": [
    "## Means"
   ]
  },
  {
   "cell_type": "code",
   "execution_count": null,
   "metadata": {},
   "outputs": [],
   "source": [
    "def plotMean(data, x_attr, y_attr, x_label, y_label):\n",
    "    return"
   ]
  }
 ],
 "metadata": {
  "kernelspec": {
   "display_name": "base",
   "language": "python",
   "name": "python3"
  },
  "language_info": {
   "codemirror_mode": {
    "name": "ipython",
    "version": 3
   },
   "file_extension": ".py",
   "mimetype": "text/x-python",
   "name": "python",
   "nbconvert_exporter": "python",
   "pygments_lexer": "ipython3",
   "version": "3.11.7"
  }
 },
 "nbformat": 4,
 "nbformat_minor": 2
}
