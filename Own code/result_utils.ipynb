{
 "cells": [
  {
   "cell_type": "markdown",
   "metadata": {},
   "source": [
    "# Utility functionality for reading and plotting results"
   ]
  },
  {
   "cell_type": "markdown",
   "metadata": {},
   "source": [
    "### References : TODO"
   ]
  },
  {
   "cell_type": "markdown",
   "metadata": {},
   "source": [
    "### Imports"
   ]
  },
  {
   "cell_type": "code",
   "execution_count": 2,
   "metadata": {},
   "outputs": [],
   "source": [
    "import os\n",
    "import pandas as pd\n",
    "import sys\n",
    "from matplotlib import pyplot as plt"
   ]
  },
  {
   "cell_type": "markdown",
   "metadata": {},
   "source": [
    "## Settings"
   ]
  },
  {
   "cell_type": "code",
   "execution_count": 8,
   "metadata": {},
   "outputs": [],
   "source": [
    "# ------ Settings ------\n",
    "# => These variables should be set to the desired settings!\n",
    "\n",
    "# The files in the directory should have names of the form \"{dataset}-factor-{downsample factor}-{any remaining information}\"\n",
    "directory = ''\n",
    "\n",
    "dataset = 'AirChange' # The dataset\n",
    "\n",
    "# The algorithms to consider\n",
    "algorithms = [\n",
    "    'Change Vector Analysis',\n",
    "    'Principal Component Differential Analysis',\n",
    "    'Image Differencing',\n",
    "    'Image Ratioing',\n",
    "    'Image Regression',\n",
    "    'Iterative Reweighted MAD',\n",
    "    'Multivariate Alteration Detection',\n",
    "    'Change Detection PCA k-Means',\n",
    "    'Principal Component Differential Analysis'\n",
    "]\n",
    "\n",
    "# The metrics to consider\n",
    "metrics = [\n",
    "    'OA',\n",
    "    'UA',\n",
    "    'Recall',\n",
    "    'FMeasure',\n",
    "    'AUC',\n",
    "    'Kappa'\n",
    "]\n",
    "\n",
    "plot_hist = False\n",
    "plot_mean = True\n",
    "plot_scatter = True"
   ]
  },
  {
   "cell_type": "code",
   "execution_count": null,
   "metadata": {},
   "outputs": [],
   "source": [
    "data_per_alg = {}\n",
    "factors = []\n",
    "\n",
    "for alg in algorithms:\n",
    "    data_per_alg[alg] = {}\n",
    "\n",
    "# Read in all the data\n",
    "for fname in os.listdir(directory):\n",
    "    fpath = os.path.join(directory, fname)\n",
    "    ftype = os.path.splitext(fname)[-1].lower()\n",
    "\n",
    "    # Check if it is an Excel file\n",
    "    if os.path.isfile(fpath) and ftype == '.xls':\n",
    "        df = pd.read_excel(fpath, header=[0])\n",
    "\n",
    "        factor = fname.split('-')[2]\n",
    "        factors.append(factor)\n",
    "\n",
    "        for alg in algorithms:\n",
    "            data_per_alg[alg][factor] = df.loc[df['name'] == alg]\n",
    "\n",
    "# Create all needed directories\n",
    "plt_dir = os.path.join(directory, 'Plots')\n",
    "if not os.path.exists(plt_dir):\n",
    "    os.makedirs(plt_dir)\n",
    "\n",
    "hist_dir = os.path.join(plt_dir, 'Histograms')\n",
    "if not os.path.exists(hist_dir):\n",
    "    os.makedirs(hist_dir)\n",
    "\n",
    "means_dir = os.path.join(plt_dir, 'Means')\n",
    "if not os.path.exists(means_dir):\n",
    "    os.makedirs(means_dir)\n",
    "\n",
    "scatter_dir = os.path.join(plt_dir, 'Scatter')\n",
    "if not os.path.exists(scatter_dir):\n",
    "    os.makedirs(scatter_dir)\n",
    "\n",
    "for metric in metrics:\n",
    "    if not os.path.exists(os.path.join(means_dir, metric)):\n",
    "        os.makedirs(os.path.join(means_dir, metric))\n",
    "\n",
    "    if not os.path.exists(os.path.join(scatter_dir, metric)):\n",
    "        os.makedirs(os.path.join(scatter_dir, metric))\n",
    "\n",
    "factors_ints = [int(factor) for factor in factors]\n",
    "for alg in algorithms:\n",
    "    for metric in metrics:\n",
    "        x_axs_plot_mean = factors_ints\n",
    "        y_axs_plot_mean = []\n",
    "\n",
    "        x_axs_scatter = []\n",
    "        y_axs_scatter = []\n",
    "        \n",
    "        for factor in factors:\n",
    "            m_res = data_per_alg[alg][factor].loc[:, [metric]][metric]\n",
    "\n",
    "            y_axs_plot_mean.append(m_res.mean())\n",
    "\n",
    "            x_axs_scatter.extend([int(factor) for _ in m_res])\n",
    "            y_axs_scatter.extend(m_res)\n",
    "\n",
    "            # Plot histogram\n",
    "            if plot_hist:\n",
    "                plt.clf()\n",
    "                plt.title(dataset + ', ' + alg + ', ' + metric)\n",
    "                plt.hist(m_res, 6)\n",
    "                plt.savefig(os.path.join(hist_dir, alg + '-' + metric + '-' + factor + '.png'))\n",
    "\n",
    "        # Plot means\n",
    "        if plot_mean:\n",
    "            plt.clf()\n",
    "            plt.title(dataset + ', ' + alg + ', ' + metric)\n",
    "            plt.plot(x_axs_plot_mean, y_axs_plot_mean, 'go-')\n",
    "            plt.xticks(factors_ints, factors)\n",
    "            plt.savefig(os.path.join(means_dir, metric, alg + '-' + metric + '-' + factor + '.png'))\n",
    "\n",
    "        # Plot scatter\n",
    "        if plot_scatter:\n",
    "            plt.clf()\n",
    "            plt.title(dataset + ', ' + alg + ', ' + metric)\n",
    "            plt.scatter(x_axs_scatter, y_axs_scatter, s=10, color='g')\n",
    "            plt.xticks(factors_ints, factors)\n",
    "            plt.savefig(os.path.join(scatter_dir, metric, alg + '-' + metric + '-' + factor + '.png'))\n"
   ]
  }
 ],
 "metadata": {
  "kernelspec": {
   "display_name": "base",
   "language": "python",
   "name": "python3"
  },
  "language_info": {
   "codemirror_mode": {
    "name": "ipython",
    "version": 3
   },
   "file_extension": ".py",
   "mimetype": "text/x-python",
   "name": "python",
   "nbconvert_exporter": "python",
   "pygments_lexer": "ipython3",
   "version": "3.11.7"
  }
 },
 "nbformat": 4,
 "nbformat_minor": 2
}
