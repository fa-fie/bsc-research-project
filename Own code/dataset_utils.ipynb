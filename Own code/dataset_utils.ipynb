{
 "cells": [
  {
   "cell_type": "markdown",
   "metadata": {},
   "source": [
    "# Utility functionality for datasets"
   ]
  },
  {
   "cell_type": "markdown",
   "metadata": {},
   "source": [
    "### References : TODO"
   ]
  },
  {
   "cell_type": "markdown",
   "metadata": {},
   "source": [
    "### Imports"
   ]
  },
  {
   "cell_type": "code",
   "execution_count": 1,
   "metadata": {},
   "outputs": [],
   "source": [
    "import os\n",
    "import cv2\n",
    "import numpy as np\n",
    "import sys"
   ]
  },
  {
   "cell_type": "markdown",
   "metadata": {},
   "source": [
    "## Functions"
   ]
  },
  {
   "cell_type": "code",
   "execution_count": 9,
   "metadata": {},
   "outputs": [],
   "source": [
    "# Recursively search a directory, applying a given function to each file\n",
    "def rec_dir(dir, rel_path, datatype, dir_out, f, fparams):\n",
    "    current_dir = os.path.join(dir, rel_path)\n",
    "\n",
    "    for fname in os.listdir(current_dir):\n",
    "        fpath = os.path.join(current_dir, fname)\n",
    "\n",
    "        if os.path.isfile(fpath):\n",
    "            f(dir, rel_path, fpath, datatype, dir_out, fparams)\n",
    "        else:\n",
    "            rec_dir(dir, os.path.join(rel_path, fname), datatype, dir_out, f, fparams)"
   ]
  },
  {
   "cell_type": "code",
   "execution_count": 10,
   "metadata": {},
   "outputs": [],
   "source": [
    "# Thresholding util function\n",
    "def threshold_val(value, inclusive_upper, threshold):\n",
    "    if inclusive_upper:\n",
    "        if value >= threshold:\n",
    "            return max\n",
    "        else:\n",
    "            return min\n",
    "    else:\n",
    "        if value > threshold:\n",
    "            return max\n",
    "        else:\n",
    "            return min\n",
    "\n",
    "# Check if a file is a binary change map\n",
    "def isBinaryFile(dir, rel_path, fpath, dataset):\n",
    "    if dataset == 'AirChange':\n",
    "        dtype = os.path.basename(fpath).split('.')[0]\n",
    "        return dtype == 'gt'\n",
    "    else:\n",
    "        # TODO adjust this to other datasets\n",
    "        sys.exit('Invalid dataset selected')"
   ]
  },
  {
   "cell_type": "code",
   "execution_count": 24,
   "metadata": {},
   "outputs": [],
   "source": [
    "# downsample image and threshold binary maps\n",
    "def downsampleAndThreshold(dir, rel_path, fpath, datatype, dir_out, params):\n",
    "    ftype = os.path.splitext(fpath)[-1].lower()\n",
    "\n",
    "    # Create a resized file, if it is of the correct type\n",
    "    if ftype == '.' + datatype:\n",
    "        dir_file_out = os.path.join(dir_out, rel_path)\n",
    "        if not os.path.exists(dir_file_out):\n",
    "            os.makedirs(dir_file_out)\n",
    "        \n",
    "        image = cv2.imread(fpath)\n",
    "        \n",
    "        if isBinaryFile(dir, rel_path, fpath, params['dataset']):\n",
    "            img_max = np.maximum.reduce(image, 2)\n",
    "            img_min = np.minimum.reduce(image, 2)\n",
    "\n",
    "            # Safety check\n",
    "            if not np.all(img_max == img_min):\n",
    "                sys.exit('Invalid binary result file')\n",
    "\n",
    "            # 'Reduce' the image\n",
    "            image = img_max\n",
    "\n",
    "        # Resize the image\n",
    "        size_1 = int(image.shape[0] * 1 / params['downsample_factor'])\n",
    "        size_2 = int(image.shape[1] * 1 / params['downsample_factor'])\n",
    "        resized = cv2.resize(image, dsize=(size_2, size_1), interpolation=params['interpolation_alg'])\n",
    "\n",
    "        # Apply threshold\n",
    "        if isBinaryFile(dir, rel_path, fpath, params['dataset']):\n",
    "            with np.nditer(resized, op_flags=['readwrite']) as iterator:\n",
    "                for value in iterator:\n",
    "                    value[...] = threshold_val(value, params['inclusive_upper'], params['threshold'])\n",
    "\n",
    "        # Write to file\n",
    "        cv2.imwrite(os.path.join(dir_file_out, os.path.basename(fpath)), resized)"
   ]
  },
  {
   "cell_type": "markdown",
   "metadata": {},
   "source": [
    "## Downsample and threshold"
   ]
  },
  {
   "cell_type": "code",
   "execution_count": 25,
   "metadata": {},
   "outputs": [],
   "source": [
    "# ------ Settings ------\n",
    "# => These variables should be set to the desired settings!\n",
    "\n",
    "# Thresholding binary maps\n",
    "min = 0     # Minimum value of a band in one pixel\n",
    "max = 255   # Maximum value of a band in one pixel\n",
    "threshold = max / 2     # Threshold for setting a pixel to be \"true\" (i.e., change)\n",
    "inclusive_upper = True  # Whether a value equal to the threshold value should be set to \"true\" (i.e., change)\n",
    "\n",
    "# Downsampling\n",
    "interpolation_alg = cv2.INTER_AREA  # The interpolation algorithm for downsampling\n",
    "downsample_factor = 8   # The inverse factor of downsampling (e.g., 2 results in 1/2 of the size)\n",
    "\n",
    "# Dataset and directories\n",
    "dir_in = '' # The directory of the dataset\n",
    "dir_out = '' # The directory to save the modified dataset to\n",
    "add_size_info = True # Whether to add the downsampling info to the directory name (form of \"sample_facor_\" + factor)\n",
    "datatype = 'bmp' # The image datatype\n",
    "dataset = 'AirChange' # The dataset name, selected from: AirChange"
   ]
  },
  {
   "cell_type": "code",
   "execution_count": 26,
   "metadata": {},
   "outputs": [],
   "source": [
    "fparams = {\n",
    "    'downsample_factor' : downsample_factor,\n",
    "    'interpolation_alg' : interpolation_alg,\n",
    "    'threshold' : threshold,\n",
    "    'inclusive_upper': inclusive_upper,\n",
    "    'add_size_info' : add_size_info,\n",
    "    'dataset' : dataset\n",
    "}\n",
    "\n",
    "rec_dir(dir_in, '', datatype, dir_out, downsampleAndThreshold, fparams)"
   ]
  }
 ],
 "metadata": {
  "kernelspec": {
   "display_name": "base",
   "language": "python",
   "name": "python3"
  },
  "language_info": {
   "codemirror_mode": {
    "name": "ipython",
    "version": 3
   },
   "file_extension": ".py",
   "mimetype": "text/x-python",
   "name": "python",
   "nbconvert_exporter": "python",
   "pygments_lexer": "ipython3",
   "version": "3.11.7"
  }
 },
 "nbformat": 4,
 "nbformat_minor": 2
}
